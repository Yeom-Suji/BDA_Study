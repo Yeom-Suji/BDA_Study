{
 "cells": [
  {
   "cell_type": "code",
   "execution_count": 30,
   "id": "46982b71",
   "metadata": {},
   "outputs": [],
   "source": [
    "import numpy as np\n",
    "import pandas as pd"
   ]
  },
  {
   "cell_type": "markdown",
   "id": "425704fa",
   "metadata": {},
   "source": [
    "# 예제 5"
   ]
  },
  {
   "cell_type": "code",
   "execution_count": 33,
   "id": "90de0f27",
   "metadata": {},
   "outputs": [],
   "source": [
    "# list = []\n",
    "# for i in ag:\n",
    "#     list.append(ag[i].sin())\n",
    "#     list.append(ag[i].cos())\n",
    "#     list.append(ag[i].tan())"
   ]
  },
  {
   "cell_type": "code",
   "execution_count": 58,
   "id": "8bad45a4",
   "metadata": {},
   "outputs": [
    {
     "name": "stdout",
     "output_type": "stream",
     "text": [
      "0.0\n",
      "0.49999999999999994\n",
      "0.8660254037844386\n",
      "1.0\n",
      "\n",
      "1.0\n",
      "0.8660254037844387\n",
      "0.5000000000000001\n",
      "6.123233995736766e-17\n",
      "\n",
      "0.0\n",
      "0.5773502691896257\n",
      "1.7320508075688767\n",
      "INF\n",
      "\n"
     ]
    }
   ],
   "source": [
    "# 삼각함수를 올바르게 사용하기 위해서는 각도를 라디안으로 변환\n",
    "arr = np.array([0, 30, 60, 90])\n",
    "lst = []\n",
    "lst.append(np.sin(arr * np.pi / 180))\n",
    "lst.append(np.cos(arr * np.pi / 180))\n",
    "lst.append(np.tan(arr * np.pi / 180))\n",
    "    \n",
    "for value_lst in lst:\n",
    "    for value in value_lst:\n",
    "        if value > 999999999:\n",
    "            print('INF')\n",
    "            continue;\n",
    "        print(value)\n",
    "    print()"
   ]
  },
  {
   "cell_type": "code",
   "execution_count": 36,
   "id": "62a6164d",
   "metadata": {},
   "outputs": [],
   "source": [
    "# if result_list[i].isfinite:\n",
    "#     replace(result_list[i], 'INF')"
   ]
  },
  {
   "cell_type": "code",
   "execution_count": 37,
   "id": "9b4fc3c8",
   "metadata": {},
   "outputs": [],
   "source": [
    "# for i in range(len(result_list)):\n",
    "#     if np.isfinite(result_list[i]):\n",
    "#         result_list[i] = 'INF'"
   ]
  },
  {
   "cell_type": "markdown",
   "id": "7edfa48d",
   "metadata": {},
   "source": [
    "# 예제 6"
   ]
  },
  {
   "cell_type": "code",
   "execution_count": 75,
   "id": "461b6f1d",
   "metadata": {},
   "outputs": [
    {
     "name": "stdout",
     "output_type": "stream",
     "text": [
      "[0 1 0 1 0 1]\n",
      "[0 0 0 0 0 1 1 1 1 1 0 0 0 0 0 1 1 1 1 1 0 0 0 0 0 1 1 1 1 1]\n"
     ]
    }
   ],
   "source": [
    "# arr = np.array([0,1])\n",
    "# tile = np.tile(arr, reps = 3)\n",
    "# print(tile)\n",
    "\n",
    "# rep = np.repeat(tile, repeats = 5)\n",
    "# print(rep)"
   ]
  },
  {
   "cell_type": "code",
   "execution_count": 81,
   "id": "89a70f9b",
   "metadata": {},
   "outputs": [
    {
     "name": "stdout",
     "output_type": "stream",
     "text": [
      "[[0 0 0 0 0 0 0]\n",
      " [0 0 0 0 0 0 0]\n",
      " [0 0 0 0 0 0 0]\n",
      " [0 0 0 0 0 0 0]\n",
      " [0 0 0 0 0 0 0]\n",
      " [0 0 0 0 0 0 0]\n",
      " [0 0 0 0 0 0 0]]\n"
     ]
    }
   ],
   "source": [
    "arr = np.zeros((7, 7), dtype =int)\n",
    "print(arr)"
   ]
  },
  {
   "cell_type": "code",
   "execution_count": 82,
   "id": "29ac341e",
   "metadata": {},
   "outputs": [
    {
     "name": "stdout",
     "output_type": "stream",
     "text": [
      "[[0 1 0 1 0 1 0]\n",
      " [1 0 1 0 1 0 1]\n",
      " [0 1 0 1 0 1 0]\n",
      " [1 0 1 0 1 0 1]\n",
      " [0 1 0 1 0 1 0]\n",
      " [1 0 1 0 1 0 1]\n",
      " [0 1 0 1 0 1 0]]\n"
     ]
    }
   ],
   "source": [
    "arr[::2, 1::2] = 1\n",
    "arr[1::2, ::2] = 1\n",
    "print(arr)"
   ]
  },
  {
   "cell_type": "code",
   "execution_count": 84,
   "id": "7c673691",
   "metadata": {},
   "outputs": [
    {
     "name": "stdout",
     "output_type": "stream",
     "text": [
      "0 1 0 1 0 1 0 \n",
      "1 0 1 0 1 0 1 \n",
      "0 1 0 1 0 1 0 \n",
      "1 0 1 0 1 0 1 \n",
      "0 1 0 1 0 1 0 \n",
      "1 0 1 0 1 0 1 \n",
      "0 1 0 1 0 1 0 \n"
     ]
    }
   ],
   "source": [
    "for row in range(7): # arr의 각 요소를 출력\n",
    "    for col in range(7):\n",
    "        print(arr[row, col], end=\" \") # 한 줄에 여러 요소를 출력한 후 줄 바꿈\n",
    "    print() #  7x7 배열의 모든 요소가 공백으로 구분되어 한 줄에 출력\n",
    "    \n",
    "#  2차원 배열의 경우, 각 행과 열을 구분하고 요소들을 정렬된 형태로 출력하기 위해 이러한 방식을 사용\n",
    "# 각 행에 대한 반복문이 외부에 위치하고, 각 열에 대한 반복문이 내부에 위치"
   ]
  }
 ],
 "metadata": {
  "kernelspec": {
   "display_name": "Python 3 (ipykernel)",
   "language": "python",
   "name": "python3"
  },
  "language_info": {
   "codemirror_mode": {
    "name": "ipython",
    "version": 3
   },
   "file_extension": ".py",
   "mimetype": "text/x-python",
   "name": "python",
   "nbconvert_exporter": "python",
   "pygments_lexer": "ipython3",
   "version": "3.11.4"
  }
 },
 "nbformat": 4,
 "nbformat_minor": 5
}
