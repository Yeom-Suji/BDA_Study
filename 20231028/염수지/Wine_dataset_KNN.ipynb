{
 "cells": [
  {
   "cell_type": "markdown",
   "id": "9da59573",
   "metadata": {},
   "source": [
    "# Wine 데이터셋"
   ]
  },
  {
   "cell_type": "code",
   "execution_count": 7,
   "id": "f9399a3d",
   "metadata": {},
   "outputs": [],
   "source": [
    "# 오류\n",
    "import warnings\n",
    "warnings.filterwarnings('ignore')"
   ]
  },
  {
   "cell_type": "code",
   "execution_count": 8,
   "id": "2e4673fa",
   "metadata": {},
   "outputs": [],
   "source": [
    "# 기본\n",
    "import numpy as np\n",
    "import pandas as pd \n",
    "import matplotlib.pyplot as plt\n",
    "\n",
    "# matplotlib 한글 문제\n",
    "from matplotlib import font_manager, rc\n",
    "font_name = font_manager.FontProperties(fname = \"c:/Windows/Fonts/malgun.ttf\").get_name()\n",
    "rc('font', family = font_name)"
   ]
  },
  {
   "cell_type": "markdown",
   "id": "c922eded",
   "metadata": {},
   "source": [
    "## KNN"
   ]
  },
  {
   "cell_type": "code",
   "execution_count": 9,
   "id": "4b0b87ac",
   "metadata": {},
   "outputs": [],
   "source": [
    "red_df = pd.read_csv(r\"C:\\pythondata\\기계학습_함건희교수_금123\\winequality-red.csv\", sep = ';', header = 0, engine = 'python')\n",
    "white_df = pd.read_csv(r\"C:\\pythondata\\기계학습_함건희교수_금123\\winequality-white.csv\", sep = ';', header = 0, engine = 'python')"
   ]
  },
  {
   "cell_type": "code",
   "execution_count": 10,
   "id": "3ea1a669",
   "metadata": {},
   "outputs": [],
   "source": [
    "# 각 데이터에 레드/화이트 와인을 구별할 수 있는 type 변수 추가\n",
    "red_df['class'] = 0\n",
    "white_df['class'] = 1"
   ]
  },
  {
   "cell_type": "code",
   "execution_count": 11,
   "id": "0b9efb72",
   "metadata": {},
   "outputs": [
    {
     "data": {
      "text/plain": [
       "(6497, 13)"
      ]
     },
     "execution_count": 11,
     "metadata": {},
     "output_type": "execute_result"
    }
   ],
   "source": [
    "wine = pd.concat([red_df, white_df])\n",
    "wine.shape"
   ]
  },
  {
   "cell_type": "code",
   "execution_count": 12,
   "id": "06802f81",
   "metadata": {},
   "outputs": [
    {
     "data": {
      "text/plain": [
       "Index(['fixed_acidity', 'volatile_acidity', 'citric_acid', 'residual_sugar',\n",
       "       'chlorides', 'free_sulfur_dioxide', 'total_sulfur_dioxide', 'density',\n",
       "       'pH', 'sulphates', 'alcohol', 'quality', 'class'],\n",
       "      dtype='object')"
      ]
     },
     "execution_count": 12,
     "metadata": {},
     "output_type": "execute_result"
    }
   ],
   "source": [
    "## 변수 공간 제거 (빈공간 '_' (under score)로 변경)\n",
    "wine.columns = wine.columns.str.replace(' ', '_')\n",
    "wine.columns # 변경된 변수명 확인"
   ]
  },
  {
   "cell_type": "code",
   "execution_count": 13,
   "id": "80ed5981",
   "metadata": {},
   "outputs": [],
   "source": [
    "# 데이터 내보내기 (export)\n",
    "wine.to_csv(r\"C:\\Users\\LG\\Desktop\\wine.csv\", index=False)"
   ]
  },
  {
   "cell_type": "code",
   "execution_count": 14,
   "id": "a0e1a4fc",
   "metadata": {},
   "outputs": [],
   "source": [
    "# 독립변수와 종속변수 분리\n",
    "X = wine[['alcohol', 'residual_sugar', 'pH']]\n",
    "Y = pd.DataFrame(wine['class'])"
   ]
  },
  {
   "cell_type": "code",
   "execution_count": 15,
   "id": "78c328b4",
   "metadata": {},
   "outputs": [],
   "source": [
    "from sklearn.model_selection import train_test_split"
   ]
  },
  {
   "cell_type": "code",
   "execution_count": 16,
   "id": "9b5c3c16",
   "metadata": {},
   "outputs": [
    {
     "name": "stdout",
     "output_type": "stream",
     "text": [
      "(4547, 3) (1950, 3) (4547, 1) (1950, 1)\n"
     ]
    }
   ],
   "source": [
    "# 학습 데이터, 테스트 데이터 분리\n",
    "X_train, X_test, Y_train, Y_test = train_test_split(X, Y, train_size=0.7, test_size=0.3, random_state=1234, stratify=Y)\n",
    "print(X_train.shape, X_test.shape, Y_train.shape, Y_test.shape)"
   ]
  },
  {
   "cell_type": "code",
   "execution_count": 17,
   "id": "d30ae800",
   "metadata": {},
   "outputs": [],
   "source": [
    "import sklearn.preprocessing as preprocessing"
   ]
  },
  {
   "cell_type": "code",
   "execution_count": 18,
   "id": "ef79de91",
   "metadata": {},
   "outputs": [],
   "source": [
    "# 변수 값 정규화\n",
    "preprocessor = preprocessing.Normalizer()\n",
    "X_train = preprocessor.fit_transform(X_train)\n",
    "X_test = preprocessor.transform(X_test)"
   ]
  },
  {
   "cell_type": "code",
   "execution_count": 19,
   "id": "608b8ed4",
   "metadata": {},
   "outputs": [],
   "source": [
    "from sklearn import neighbors"
   ]
  },
  {
   "cell_type": "code",
   "execution_count": 20,
   "id": "20b69e7b",
   "metadata": {},
   "outputs": [
    {
     "data": {
      "text/plain": [
       "<matplotlib.legend.Legend at 0x278608039d0>"
      ]
     },
     "execution_count": 20,
     "metadata": {},
     "output_type": "execute_result"
    },
    {
     "data": {
      "image/png": "[encoded data removed]",
      "text/plain": [
       "<Figure size 640x480 with 1 Axes>"
      ]
     },
     "metadata": {},
     "output_type": "display_data"
    }
   ],
   "source": [
    "training_accuracy = []\n",
    "test_accuracy = []\n",
    "# 여러 k값에 대한 모델 생성 n_neighbors 를 적용\n",
    "k_settings = range(1, 25)\n",
    "\n",
    "for k in k_settings:\n",
    "    # 모델 생성\n",
    "    wine_knn = neighbors.KNeighborsClassifier(n_neighbors=k)\n",
    "    wine_knn.fit(X_train, Y_train)\n",
    "    # 훈련 세트 정확도 저장\n",
    "    training_accuracy.append(wine_knn.score(X_train, Y_train))\n",
    "    # 일반화 정확도 저장\n",
    "    test_accuracy.append(wine_knn.score(X_test, Y_test))\n",
    "\n",
    "# K의 변황량에 따른 예측정확도 성능 비교\n",
    "plt.plot(k_settings, training_accuracy, label=\"훈련 정확도\")\n",
    "plt.plot(k_settings, test_accuracy, label=\"테스트 정확도\")\n",
    "plt.ylabel(\"정확도\")\n",
    "plt.xlabel(\"K\")\n",
    "plt.legend()"
   ]
  },
  {
   "cell_type": "code",
   "execution_count": 21,
   "id": "07862c1e",
   "metadata": {},
   "outputs": [
    {
     "name": "stdout",
     "output_type": "stream",
     "text": [
      "최적의 K값: 15\n"
     ]
    }
   ],
   "source": [
    "# 최적의 K 판단\n",
    "from itertools import compress\n",
    "best_k_temp = test_accuracy==max(test_accuracy)\n",
    "best_k = list(compress(k_settings, best_k_temp))[0]\n",
    "print('최적의 K값:', best_k)"
   ]
  },
  {
   "cell_type": "code",
   "execution_count": 23,
   "id": "c1ac883c",
   "metadata": {},
   "outputs": [
    {
     "data": {
      "text/plain": [
       "array([1, 0, 1, ..., 1, 0, 1], dtype=int64)"
      ]
     },
     "execution_count": 23,
     "metadata": {},
     "output_type": "execute_result"
    }
   ],
   "source": [
    "# 최적의 K값에서 테스트 데이터의 Y예측값\n",
    "best_wine_knn = neighbors.KNeighborsClassifier(n_neighbors=best_k)\n",
    "best_wine_knn.fit(X_train, Y_train)\n",
    "best_wine_knn.predict(X_test)"
   ]
  },
  {
   "cell_type": "code",
   "execution_count": 26,
   "id": "bbf40144",
   "metadata": {},
   "outputs": [],
   "source": [
    "n_test = len(Y_test)\n",
    "Y_predict = best_wine_knn.predict(X_test)"
   ]
  },
  {
   "cell_type": "code",
   "execution_count": 27,
   "id": "19772d49",
   "metadata": {},
   "outputs": [],
   "source": [
    "from sklearn import metrics\n",
    "from sklearn.metrics import confusion_matrix, accuracy_score, precision_score, recall_score, f1_score"
   ]
  },
  {
   "cell_type": "code",
   "execution_count": 28,
   "id": "e718d203",
   "metadata": {
    "scrolled": true
   },
   "outputs": [
    {
     "data": {
      "text/plain": [
       "array([[ 351,  129],\n",
       "       [ 113, 1357]], dtype=int64)"
      ]
     },
     "execution_count": 28,
     "metadata": {},
     "output_type": "execute_result"
    }
   ],
   "source": [
    "# 오차행렬(confusion matirx)를 통해 최적의 K에서의 예측 성능 확인\n",
    "confusion_matrix(Y_test, Y_predict)"
   ]
  },
  {
   "cell_type": "code",
   "execution_count": 29,
   "id": "34083229",
   "metadata": {},
   "outputs": [],
   "source": [
    "accuracy = accuracy_score(Y_test, Y_predict)\n",
    "precision = precision_score(Y_test, Y_predict)\n",
    "recall = recall_score(Y_test, Y_predict)\n",
    "f1 = f1_score(Y_test, Y_predict)"
   ]
  },
  {
   "cell_type": "code",
   "execution_count": 30,
   "id": "e8d5ce16",
   "metadata": {},
   "outputs": [
    {
     "data": {
      "text/html": [
       "<div>\n",
       "<style scoped>\n",
       "    .dataframe tbody tr th:only-of-type {\n",
       "        vertical-align: middle;\n",
       "    }\n",
       "\n",
       "    .dataframe tbody tr th {\n",
       "        vertical-align: top;\n",
       "    }\n",
       "\n",
       "    .dataframe thead th {\n",
       "        text-align: right;\n",
       "    }\n",
       "</style>\n",
       "<table border=\"1\" class=\"dataframe\">\n",
       "  <thead>\n",
       "    <tr style=\"text-align: right;\">\n",
       "      <th></th>\n",
       "      <th>accuracy</th>\n",
       "      <th>precision</th>\n",
       "      <th>recall</th>\n",
       "      <th>f1</th>\n",
       "    </tr>\n",
       "  </thead>\n",
       "  <tbody>\n",
       "    <tr>\n",
       "      <th>KNN_best</th>\n",
       "      <td>0.875897</td>\n",
       "      <td>0.91319</td>\n",
       "      <td>0.923129</td>\n",
       "      <td>0.918133</td>\n",
       "    </tr>\n",
       "  </tbody>\n",
       "</table>\n",
       "</div>"
      ],
      "text/plain": [
       "          accuracy precision    recall        f1\n",
       "KNN_best  0.875897   0.91319  0.923129  0.918133"
      ]
     },
     "execution_count": 30,
     "metadata": {},
     "output_type": "execute_result"
    }
   ],
   "source": [
    "result_mat = pd.DataFrame(columns=['accuracy', 'precision', 'recall', 'f1'], index =['KNN_best'])\n",
    "result_mat.loc['KNN_best']=[accuracy, precision, recall, f1]\n",
    "result_mat\n",
    "# 예측성공, 실제 참인지, 미래예측율, p+r"
   ]
  },
  {
   "cell_type": "code",
   "execution_count": null,
   "id": "f82fd84f",
   "metadata": {},
   "outputs": [],
   "source": []
  }
 ],
 "metadata": {
  "kernelspec": {
   "display_name": "Python 3 (ipykernel)",
   "language": "python",
   "name": "python3"
  },
  "language_info": {
   "codemirror_mode": {
    "name": "ipython",
    "version": 3
   },
   "file_extension": ".py",
   "mimetype": "text/x-python",
   "name": "python",
   "nbconvert_exporter": "python",
   "pygments_lexer": "ipython3",
   "version": "3.9.13"
  },
  "toc": {
   "base_numbering": 1,
   "nav_menu": {},
   "number_sections": true,
   "sideBar": true,
   "skip_h1_title": false,
   "title_cell": "Table of Contents",
   "title_sidebar": "Contents",
   "toc_cell": false,
   "toc_position": {},
   "toc_section_display": true,
   "toc_window_display": false
  }
 },
 "nbformat": 4,
 "nbformat_minor": 5
}
