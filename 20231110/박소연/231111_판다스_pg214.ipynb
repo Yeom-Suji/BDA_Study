{
 "cells": [
  {
   "cell_type": "code",
   "execution_count": 2,
   "id": "b2ec2ac5",
   "metadata": {},
   "outputs": [],
   "source": [
    "import numpy as np\n",
    "import pandas as pd"
   ]
  },
  {
   "cell_type": "markdown",
   "id": "8675c8a5",
   "metadata": {},
   "source": [
    "## pd.concat을 이용한 간단한 연결"
   ]
  },
  {
   "cell_type": "markdown",
   "id": "4f82240a",
   "metadata": {},
   "source": [
    "### 인덱스 복제"
   ]
  },
  {
   "cell_type": "code",
   "execution_count": null,
   "id": "2a88a0aa",
   "metadata": {},
   "outputs": [],
   "source": [
    "#기본적으로 axis = 0\n",
    "# 인데스 복제, 인덱스 유지 특성\n",
    "pd.concat()\n",
    "np.concatenate()"
   ]
  },
  {
   "cell_type": "code",
   "execution_count": null,
   "id": "e8688a5a",
   "metadata": {},
   "outputs": [],
   "source": [
    "# 중복 인덱스 여부 확인 가능\n",
    "pd.concat([x, y], verify_integrity=True)"
   ]
  },
  {
   "cell_type": "code",
   "execution_count": null,
   "id": "e69c765b",
   "metadata": {},
   "outputs": [],
   "source": [
    "# 인덱스 무시 가능\n",
    "pd.concat([x, y], ignore_index=True)"
   ]
  },
  {
   "cell_type": "code",
   "execution_count": null,
   "id": "66fbf676",
   "metadata": {},
   "outputs": [],
   "source": [
    "# 다중 인덱스 키를 추가한다\n",
    "pd.concat([x, y], keys=['x', 'y']) #keys 인덱스 -> 원래 int 인덱스"
   ]
  },
  {
   "cell_type": "markdown",
   "id": "a8e59471",
   "metadata": {},
   "source": [
    "### 조인을 이용한 연결"
   ]
  },
  {
   "cell_type": "code",
   "execution_count": null,
   "id": "1bddfb63",
   "metadata": {},
   "outputs": [],
   "source": [
    "# 채울 수 없는 값, NA\n",
    "pd.concat([x, y])\n",
    "# 교집합\n",
    "pd.concat([x, y], join = 'inner')\n",
    "# 합집합\n",
    "pd.concat([x, y], join = 'outer') # default\n",
    "# 특정 열을 기준으로\n",
    "pd.concat([x, y], join_axes = [df5.columns])"
   ]
  },
  {
   "cell_type": "markdown",
   "id": "b88fbc05",
   "metadata": {},
   "source": [
    "### append()"
   ]
  },
  {
   "cell_type": "code",
   "execution_count": null,
   "id": "04b604b1",
   "metadata": {},
   "outputs": [],
   "source": [
    "# 원래의 객체를 변경하지 않음\n",
    "pd.concat([x, y]) = df1.append(df2)"
   ]
  },
  {
   "cell_type": "markdown",
   "id": "35c46566",
   "metadata": {},
   "source": [
    "## 데이터세트 결합하기: 병합과 조인"
   ]
  },
  {
   "cell_type": "markdown",
   "id": "20d61e53",
   "metadata": {},
   "source": [
    "### 일대일 조인"
   ]
  },
  {
   "cell_type": "code",
   "execution_count": null,
   "id": "b87289c0",
   "metadata": {},
   "outputs": [],
   "source": [
    "# 자동으로 공통 열을 키로 사용해 조인\n",
    "pd.merge(df1, df2)"
   ]
  },
  {
   "cell_type": "markdown",
   "id": "9d9bac17",
   "metadata": {},
   "source": [
    "### 다대일 조인"
   ]
  },
  {
   "cell_type": "code",
   "execution_count": 4,
   "id": "66ce4430",
   "metadata": {},
   "outputs": [],
   "source": [
    "# 두 개의 키 열중 하나가 중복된 항목을 포함하는 경우"
   ]
  },
  {
   "cell_type": "markdown",
   "id": "525f6da9",
   "metadata": {},
   "source": [
    "### 다대다 조인"
   ]
  },
  {
   "cell_type": "code",
   "execution_count": 5,
   "id": "fe759431",
   "metadata": {},
   "outputs": [],
   "source": [
    "# 모두 중복 항목이 존재한다면, 다대다 병합"
   ]
  },
  {
   "cell_type": "markdown",
   "id": "51c49fdd",
   "metadata": {},
   "source": [
    "## 병합 키 지정"
   ]
  },
  {
   "cell_type": "markdown",
   "id": "6a7ac628",
   "metadata": {},
   "source": [
    "### on 키워드"
   ]
  },
  {
   "cell_type": "code",
   "execution_count": null,
   "id": "2487547e",
   "metadata": {},
   "outputs": [],
   "source": [
    "# key 열의 이름을 명시적으로\n",
    "pd.merge(df1, df2, on = 'employee')"
   ]
  },
  {
   "cell_type": "markdown",
   "id": "64574dfd",
   "metadata": {},
   "source": [
    "### left_on / right_on"
   ]
  },
  {
   "cell_type": "code",
   "execution_count": null,
   "id": "927c5209",
   "metadata": {},
   "outputs": [],
   "source": [
    "# 다른 열을 가진 두 df 병합\n",
    "pd.merge(df1, df2, left_on = 'employee', right_on = 'name')\n",
    "# 중복되는 열 삭제 가능\n",
    "pd.merge(df1, df2, left_on = 'employee', right_on = 'name').drop('name', axis = 1)"
   ]
  },
  {
   "cell_type": "markdown",
   "id": "8163656f",
   "metadata": {},
   "source": [
    "### left_index / right_index"
   ]
  },
  {
   "cell_type": "code",
   "execution_count": null,
   "id": "62f1248e",
   "metadata": {},
   "outputs": [],
   "source": [
    "# 일반 데이터 열이 아닌 인덱스를 기준열로 사용\n",
    "pd.merge(df1, df2, left_index = 'True', right_index  = 'name')\n",
    "# 결합 사용\n",
    "pd.merge(df1, df2, left_index = 'True', right_on = 'name')"
   ]
  },
  {
   "cell_type": "markdown",
   "id": "70fb9c49",
   "metadata": {},
   "source": [
    "## 조인을 위한 집합 연산 지정하기"
   ]
  },
  {
   "cell_type": "code",
   "execution_count": null,
   "id": "05e634b3",
   "metadata": {},
   "outputs": [],
   "source": [
    "pd.merge(df1, df2, how = 'outer') #default : 'inner'\n",
    "pd.merge(df1, df2, how = 'left')"
   ]
  },
  {
   "cell_type": "markdown",
   "id": "c5d5a412",
   "metadata": {},
   "source": [
    "## 열 이름이 겹치는 경우: suffixes 키워드"
   ]
  },
  {
   "cell_type": "code",
   "execution_count": null,
   "id": "30fc16ca",
   "metadata": {},
   "outputs": [],
   "source": [
    "pd.merge(df1, df2, on = 'name')\n",
    "pd.merge(df1, df2, on = 'name', suffixes = ['_L', '_R'])"
   ]
  },
  {
   "cell_type": "code",
   "execution_count": null,
   "id": "748a0c27",
   "metadata": {},
   "outputs": [],
   "source": [
    "pd.merge(df1, df2, on = 'name', suffixes = ['_L', '_R'])"
   ]
  },
  {
   "cell_type": "markdown",
   "id": "e5e40d7b",
   "metadata": {},
   "source": [
    "## 집계와 분류"
   ]
  },
  {
   "cell_type": "code",
   "execution_count": null,
   "id": "11a247ce",
   "metadata": {},
   "outputs": [],
   "source": [
    "df.means(axis = 'columns')"
   ]
  },
  {
   "cell_type": "code",
   "execution_count": null,
   "id": "11cb058b",
   "metadata": {},
   "outputs": [],
   "source": [
    "planets.dropna().describe()"
   ]
  },
  {
   "cell_type": "markdown",
   "id": "210c1518",
   "metadata": {},
   "source": [
    "## Groupby: 분할, 적용, 결합"
   ]
  },
  {
   "cell_type": "code",
   "execution_count": null,
   "id": "b0f50946",
   "metadata": {},
   "outputs": [],
   "source": [
    "df.groupby('key').sum()"
   ]
  },
  {
   "cell_type": "markdown",
   "id": "aad7b8c3",
   "metadata": {},
   "source": [
    "### Groupby 객체\n",
    "\n",
    "- 열인덱싱 (수정된 Groupby 객체 반환)\n",
    "- 그룹 내 반복\n",
    "- 디스패치 메서드"
   ]
  },
  {
   "cell_type": "markdown",
   "id": "8bb73d16",
   "metadata": {},
   "source": [
    "### 집계, 필터, 변환, 적용"
   ]
  },
  {
   "cell_type": "code",
   "execution_count": null,
   "id": "457760b0",
   "metadata": {},
   "outputs": [],
   "source": [
    "# 집계\n",
    "df.groupby('key').aggregate(['min', np.median, max])\n",
    "\n",
    "# 필터링\n",
    "df.groupby('key').std()\n",
    "df.groupby('key').filter(filter_func) # 필터링 연산 사용하면 그룹 속성을 기준으로 데이터 걸러냄\n",
    "\n",
    "# 변환\n",
    "df.groupby('key').transform(lambda x: x - x.mean())\n",
    "\n",
    "# apply\n",
    "df.groupby('key').apply(norm_by_data2) #임의의 함수를 그룹 결과에 적용할 때 사용"
   ]
  },
  {
   "cell_type": "markdown",
   "id": "8c2be775",
   "metadata": {},
   "source": [
    "### 분할 키 지정하기\n",
    "\n",
    "- 분할 키를 제공하는 리스트, 배열, 시리즈, 인덱스\n",
    "- 인덱스를 그룹에 매핑한 딕셔너리나 시리즈\n",
    "- 파이썬 함수\n",
    "- 유효한 키의 리스트"
   ]
  },
  {
   "cell_type": "markdown",
   "id": "212d5dcf",
   "metadata": {},
   "source": [
    "## 피벗 테이블\n",
    "- 표 형태의 데이터로 작업하는 스프레드시트와 유사\n",
    "- groupby 집계의 다차원 버전"
   ]
  },
  {
   "cell_type": "code",
   "execution_count": null,
   "id": "45d599bf",
   "metadata": {},
   "outputs": [],
   "source": [
    "# 피벗 테이블 시작\n",
    "\n",
    "# 피벗 테이블 등장 배경\n",
    "titanic.groupby('sex')[['survived']].mean()\n",
    "titanic.groupby(['sex', 'class'])[['survived']].aggregate('mean').unstack()\n",
    "\n",
    "# 피벗 테이블 구문\n",
    "titanic.pivot_table('survived', index = 'sex', columns = 'class')"
   ]
  },
  {
   "cell_type": "code",
   "execution_count": null,
   "id": "5ba0eee8",
   "metadata": {},
   "outputs": [],
   "source": [
    "# 다단계 피벗 테이블\n",
    "titanic.pivot_table('survived', ['sex', 'age'], 'class')\n",
    "\n",
    "fare = pd.cut(titanic['fare'], 2)\n",
    "titanic.pivot_table('survived', ['sex', 'age'], [fare, 'class'])\n",
    "\n",
    "# 기타 피벗 테이블 옵션\n",
    "aggfunc()\n",
    "titanic.pivot_table( index = 'sex', columns = 'class', aggfunc={'survived': sum, 'fare': 'mean'})\n",
    "margins = True\n",
    "titanic.pivot_table('survived', index = 'sex', columns = 'class', margins = True)"
   ]
  },
  {
   "cell_type": "markdown",
   "id": "341a4390",
   "metadata": {},
   "source": [
    "## 백터화된 문자열 연산"
   ]
  },
  {
   "cell_type": "code",
   "execution_count": 6,
   "id": "ae373108",
   "metadata": {},
   "outputs": [],
   "source": [
    "#Pandas  문자열 연산 소개"
   ]
  },
  {
   "cell_type": "code",
   "execution_count": 7,
   "id": "49464451",
   "metadata": {},
   "outputs": [],
   "source": [
    "#Pandas  문자열 메소드 목록"
   ]
  },
  {
   "cell_type": "markdown",
   "id": "7bab8c87",
   "metadata": {},
   "source": [
    "- 파이썬 문자열 메서드와 유사한 메서드\n",
    "- 정규 표현식을 활용하는 메서드\n",
    "- 기타 메서드\n",
    "    - 벡터화된 항목의 접근 및 슬라이싱\n",
    "    - 지시 변수"
   ]
  }
 ],
 "metadata": {
  "kernelspec": {
   "display_name": "Python 3 (ipykernel)",
   "language": "python",
   "name": "python3"
  },
  "language_info": {
   "codemirror_mode": {
    "name": "ipython",
    "version": 3
   },
   "file_extension": ".py",
   "mimetype": "text/x-python",
   "name": "python",
   "nbconvert_exporter": "python",
   "pygments_lexer": "ipython3",
   "version": "3.11.4"
  }
 },
 "nbformat": 4,
 "nbformat_minor": 5
}
